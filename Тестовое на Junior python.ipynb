{
 "cells": [
  {
   "cell_type": "markdown",
   "id": "ba77a363",
   "metadata": {},
   "source": [
    "для того, что бы вычислить числовое вхождение, нам нужно взять большее из начала и меньшее из конца обоих интервалов.\n",
    "\n",
    "обозначим x как большее начало двух интервалов, а y как окончание меньшее окончание двух интервалов.\n",
    "\n",
    "для начала, хорошо бы исправить интервалы, которые выходят за время урока. То есть те, которые начинаются раньше или заканчиваются позже урока.\n",
    "\n",
    "создаем функцию, которая будет исправлять наши списки пребывания ученика и учителя:"
   ]
  },
  {
   "cell_type": "code",
   "execution_count": 9,
   "id": "983c68e2",
   "metadata": {},
   "outputs": [],
   "source": [
    "def edges_trim(arr, start, end):\n",
    "    \"\"\"Исправляем интервалы, которые не входят в урок.\n",
    "    \"\"\"\n",
    "    for i in range(len(arr)):\n",
    "        if arr[i] < start: arr[i] = start\n",
    "        elif arr[i] > end: arr[i] = end"
   ]
  },
  {
   "cell_type": "markdown",
   "id": "aaa527e8",
   "metadata": {},
   "source": [
    "в функцию выше надо передать по очереди tutor и pupel вместе с lesson[0], lesson[1]."
   ]
  },
  {
   "cell_type": "code",
   "execution_count": 10,
   "id": "8211327f",
   "metadata": {},
   "outputs": [],
   "source": [
    "def appearance(pupil, tutor):\n",
    "    \n",
    "    start = tutor[0] \n",
    "    seconds = 0\n",
    "    for i in range(0, len(tutor), 2):\n",
    "        for j in range(0, len(pupil), 2):\n",
    "            # окончание второго интервала, должно быть позже последнего\n",
    "              #сохраненного общего пребывания\n",
    "            if start < pupil[j+1]: \n",
    "                x = max(tutor[i], pupil[j])\n",
    "                y = min(tutor[i+1], pupil[j+1])\n",
    "                # если наши значения не интервал, а то что мы уже учли,\n",
    "                  #пропускаем, мы его уже учли в предыдущих циклах\n",
    "                if x > y: continue\n",
    "                # в промежутке от start до x кто-то из них не был на уроке, \n",
    "                  #это уже начало нового промежутка общего пребывания\n",
    "                if x > start: start = x \n",
    "                seconds += y - start\n",
    "                start = y \n",
    "    return seconds"
   ]
  },
  {
   "cell_type": "markdown",
   "id": "ac9f7751",
   "metadata": {},
   "source": [
    "в цикле будем проходить от 0 элемента до последнего с шагом 2, так у нас i-ый и j-ый элементы будут началом интервала, а i+1 и j+1 будут концами. функция выше возвращает нужное нам значение. мы будем запоминать в какую секунду в последний раз учитель и ученик были на уроке в переменной start, и отнимать от y эту переменную."
   ]
  },
  {
   "cell_type": "code",
   "execution_count": 11,
   "id": "279104ba",
   "metadata": {},
   "outputs": [
    {
     "ename": "TypeError",
     "evalue": "appearance() missing 1 required positional argument: 'tutor'",
     "output_type": "error",
     "traceback": [
      "\u001b[1;31m---------------------------------------------------------------------------\u001b[0m",
      "\u001b[1;31mTypeError\u001b[0m                                 Traceback (most recent call last)",
      "\u001b[1;32m~\\AppData\\Local\\Temp/ipykernel_14864/986885312.py\u001b[0m in \u001b[0;36m<module>\u001b[1;34m\u001b[0m\n\u001b[0;32m     19\u001b[0m \u001b[1;32mif\u001b[0m \u001b[0m__name__\u001b[0m \u001b[1;33m==\u001b[0m \u001b[1;34m'__main__'\u001b[0m\u001b[1;33m:\u001b[0m\u001b[1;33m\u001b[0m\u001b[1;33m\u001b[0m\u001b[0m\n\u001b[0;32m     20\u001b[0m     \u001b[1;32mfor\u001b[0m \u001b[0mi\u001b[0m\u001b[1;33m,\u001b[0m \u001b[0mtest\u001b[0m \u001b[1;32min\u001b[0m \u001b[0menumerate\u001b[0m\u001b[1;33m(\u001b[0m\u001b[0mtests\u001b[0m\u001b[1;33m)\u001b[0m\u001b[1;33m:\u001b[0m\u001b[1;33m\u001b[0m\u001b[1;33m\u001b[0m\u001b[0m\n\u001b[1;32m---> 21\u001b[1;33m         \u001b[0mtest_answer\u001b[0m \u001b[1;33m=\u001b[0m \u001b[0mappearance\u001b[0m\u001b[1;33m(\u001b[0m\u001b[0mtest\u001b[0m\u001b[1;33m[\u001b[0m\u001b[1;34m'data'\u001b[0m\u001b[1;33m]\u001b[0m\u001b[1;33m)\u001b[0m\u001b[1;33m\u001b[0m\u001b[1;33m\u001b[0m\u001b[0m\n\u001b[0m\u001b[0;32m     22\u001b[0m         \u001b[1;32massert\u001b[0m \u001b[0mtest_answer\u001b[0m \u001b[1;33m==\u001b[0m \u001b[0mtest\u001b[0m\u001b[1;33m[\u001b[0m\u001b[1;34m'answer'\u001b[0m\u001b[1;33m]\u001b[0m\u001b[1;33m,\u001b[0m \u001b[1;34mf'Error on test case {i}, got {test_answer}, expected {test[\"answer\"]}'\u001b[0m\u001b[1;33m\u001b[0m\u001b[1;33m\u001b[0m\u001b[0m\n",
      "\u001b[1;31mTypeError\u001b[0m: appearance() missing 1 required positional argument: 'tutor'"
     ]
    }
   ],
   "source": [
    "    \n",
    "tests = [\n",
    "    {'data': {'lesson': [1594663200, 1594666800],\n",
    "             'pupil': [1594663340, 1594663389, 1594663390, 1594663395, 1594663396, 1594666472],\n",
    "             'tutor': [1594663290, 1594663430, 1594663443, 1594666473]},\n",
    "     'answer': 3117\n",
    "    },\n",
    "    {'data': {'lesson': [1594702800, 1594706400],\n",
    "             'pupil': [1594702789, 1594704500, 1594702807, 1594704542, 1594704512, 1594704513, 1594704564, 1594705150, 1594704581, 1594704582, 1594704734, 1594705009, 1594705095, 1594705096, 1594705106, 1594706480, 1594705158, 1594705773, 1594705849, 1594706480, 1594706500, 1594706875, 1594706502, 1594706503, 1594706524, 1594706524, 1594706579, 1594706641],\n",
    "             'tutor': [1594700035, 1594700364, 1594702749, 1594705148, 1594705149, 1594706463]},\n",
    "    'answer': 3577\n",
    "    },\n",
    "    {'data': {'lesson': [1594692000, 1594695600],\n",
    "             'pupil': [1594692033, 1594696347],\n",
    "             'tutor': [1594692017, 1594692066, 1594692068, 1594696341]},\n",
    "    'answer': 3565\n",
    "    },\n",
    "]\n",
    "\n",
    "if __name__ == '__main__':\n",
    "    for i, test in enumerate(tests):\n",
    "        test_answer = appearance(test['data'])\n",
    "        assert test_answer == test['answer'], f'Error on test case {i}, got {test_answer}, expected {test[\"answer\"]}'"
   ]
  },
  {
   "cell_type": "code",
   "execution_count": 27,
   "id": "fad88bc2",
   "metadata": {},
   "outputs": [],
   "source": [
    "def appearance(data):\n",
    "    lesson = data['lesson']\n",
    "    pupil = data['pupil']\n",
    "    tutor = data['tutor']\n",
    "    \n",
    "    lesson_range = range(lesson[0], lesson[1]+1)\n",
    "    pupil_ranges = make_ranges(pupil)\n",
    "    tutor_ranges = make_ranges(tutor)\n",
    "    \n",
    "    intervals_list = []\n",
    "    check_list = []\n",
    "    check_list += lesson\n",
    "    check_list += pupil\n",
    "    check_list += tutor\n",
    "    for timestump in check_list:\n",
    "        if timestump in lesson_range:\n",
    "            pupil_result = check_in_range(timestump, pupil_ranges)\n",
    "            tutor_result = check_in_range(timestump, tutor_ranges)\n",
    "            if pupil_result == True and tutor_result == True:\n",
    "                intervals_list.append(timestump)\n",
    "    intervals_list.sort()\n",
    "    time = 0\n",
    "    for i in range(1, len(intervals_list), 2):\n",
    "        delta = intervals_list[i] - intervals_list[i-1]\n",
    "        time += delta\n",
    "    return time\n",
    "\n",
    "\n",
    "def check_in_range(timestump, ranges):\n",
    "    for timedelta in ranges:\n",
    "        if timestump in timedelta:\n",
    "            return True      \n",
    "\n",
    "\n",
    "def make_ranges(intervals):\n",
    "    range_list = []\n",
    "    for i in range(1, len(intervals), 2):\n",
    "        range_list.append(range(intervals[i-1], intervals[i]+1))\n",
    "    return range_list"
   ]
  },
  {
   "cell_type": "code",
   "execution_count": 29,
   "id": "206281bb",
   "metadata": {},
   "outputs": [
    {
     "data": {
      "text/plain": [
       "[1594663200,\n",
       " 1594666800,\n",
       " 1594663340,\n",
       " 1594663389,\n",
       " 1594663390,\n",
       " 1594663395,\n",
       " 1594663396,\n",
       " 1594666472,\n",
       " 1594663290,\n",
       " 1594663430,\n",
       " 1594663443,\n",
       " 1594666473]"
      ]
     },
     "execution_count": 29,
     "metadata": {},
     "output_type": "execute_result"
    }
   ],
   "source": [
    "check_list"
   ]
  },
  {
   "cell_type": "code",
   "execution_count": 28,
   "id": "26afd669",
   "metadata": {
    "scrolled": false
   },
   "outputs": [
    {
     "name": "stdout",
     "output_type": "stream",
     "text": [
      "3117\n",
      "398\n",
      "3565\n"
     ]
    }
   ],
   "source": [
    "for test in tests:\n",
    "    print(appearance(test['data']))"
   ]
  },
  {
   "cell_type": "code",
   "execution_count": 13,
   "id": "c77950ad",
   "metadata": {},
   "outputs": [
    {
     "ename": "AssertionError",
     "evalue": "Error on test case 1, got 398, expected 3577",
     "output_type": "error",
     "traceback": [
      "\u001b[1;31m---------------------------------------------------------------------------\u001b[0m",
      "\u001b[1;31mAssertionError\u001b[0m                            Traceback (most recent call last)",
      "\u001b[1;32m~\\AppData\\Local\\Temp/ipykernel_14864/1681831303.py\u001b[0m in \u001b[0;36m<module>\u001b[1;34m\u001b[0m\n\u001b[0;32m     20\u001b[0m     \u001b[1;32mfor\u001b[0m \u001b[0mi\u001b[0m\u001b[1;33m,\u001b[0m \u001b[0mtest\u001b[0m \u001b[1;32min\u001b[0m \u001b[0menumerate\u001b[0m\u001b[1;33m(\u001b[0m\u001b[0mtests\u001b[0m\u001b[1;33m)\u001b[0m\u001b[1;33m:\u001b[0m\u001b[1;33m\u001b[0m\u001b[1;33m\u001b[0m\u001b[0m\n\u001b[0;32m     21\u001b[0m         \u001b[0mtest_answer\u001b[0m \u001b[1;33m=\u001b[0m \u001b[0mappearance\u001b[0m\u001b[1;33m(\u001b[0m\u001b[0mtest\u001b[0m\u001b[1;33m[\u001b[0m\u001b[1;34m'data'\u001b[0m\u001b[1;33m]\u001b[0m\u001b[1;33m)\u001b[0m\u001b[1;33m\u001b[0m\u001b[1;33m\u001b[0m\u001b[0m\n\u001b[1;32m---> 22\u001b[1;33m         \u001b[1;32massert\u001b[0m \u001b[0mtest_answer\u001b[0m \u001b[1;33m==\u001b[0m \u001b[0mtest\u001b[0m\u001b[1;33m[\u001b[0m\u001b[1;34m'answer'\u001b[0m\u001b[1;33m]\u001b[0m\u001b[1;33m,\u001b[0m \u001b[1;34mf'Error on test case {i}, got {test_answer}, expected {test[\"answer\"]}'\u001b[0m\u001b[1;33m\u001b[0m\u001b[1;33m\u001b[0m\u001b[0m\n\u001b[0m",
      "\u001b[1;31mAssertionError\u001b[0m: Error on test case 1, got 398, expected 3577"
     ]
    }
   ],
   "source": [
    "tests = [\n",
    "    {'data': {'lesson': [1594663200, 1594666800],\n",
    "             'pupil': [1594663340, 1594663389, 1594663390, 1594663395, 1594663396, 1594666472],\n",
    "             'tutor': [1594663290, 1594663430, 1594663443, 1594666473]},\n",
    "     'answer': 3117\n",
    "    },\n",
    "    {'data': {'lesson': [1594702800, 1594706400],\n",
    "             'pupil': [1594702789, 1594704500, 1594702807, 1594704542, 1594704512, 1594704513, 1594704564, 1594705150, 1594704581, 1594704582, 1594704734, 1594705009, 1594705095, 1594705096, 1594705106, 1594706480, 1594705158, 1594705773, 1594705849, 1594706480, 1594706500, 1594706875, 1594706502, 1594706503, 1594706524, 1594706524, 1594706579, 1594706641],\n",
    "             'tutor': [1594700035, 1594700364, 1594702749, 1594705148, 1594705149, 1594706463]},\n",
    "    'answer': 3577\n",
    "    },\n",
    "    {'data': {'lesson': [1594692000, 1594695600],\n",
    "             'pupil': [1594692033, 1594696347],\n",
    "             'tutor': [1594692017, 1594692066, 1594692068, 1594696341]},\n",
    "    'answer': 3565\n",
    "    },\n",
    "]\n",
    "\n",
    "if __name__ == '__main__':\n",
    "    for i, test in enumerate(tests):\n",
    "        test_answer = appearance(test['data'])\n",
    "        assert test_answer == test['answer'], f'Error on test case {i}, got {test_answer}, expected {test[\"answer\"]}'"
   ]
  },
  {
   "cell_type": "code",
   "execution_count": 15,
   "id": "58fbc2a9",
   "metadata": {},
   "outputs": [
    {
     "data": {
      "text/plain": [
       "2765"
      ]
     },
     "execution_count": 15,
     "metadata": {},
     "output_type": "execute_result"
    }
   ],
   "source": [
    "1594702800 -1594700035"
   ]
  },
  {
   "cell_type": "code",
   "execution_count": 16,
   "id": "cd058be8",
   "metadata": {},
   "outputs": [],
   "source": [
    "data={'lesson': [1594663200, 1594666800],\n",
    "             'pupil': [1594663340, 1594663389, 1594663390, 1594663395, 1594663396, 1594666472],\n",
    "             'tutor': [1594663290, 1594663430, 1594663443, 1594666473]}"
   ]
  },
  {
   "cell_type": "code",
   "execution_count": 21,
   "id": "964c4fc5",
   "metadata": {},
   "outputs": [
    {
     "name": "stdout",
     "output_type": "stream",
     "text": [
      "1594663200\n",
      "1594666800\n",
      "1594663340\n",
      "1594663389\n",
      "1594663390\n",
      "1594663395\n",
      "1594663396\n",
      "1594666472\n",
      "1594663290\n",
      "1594663430\n",
      "1594663443\n",
      "1594666473\n"
     ]
    }
   ],
   "source": [
    "lesson = data['lesson']\n",
    "pupil = data['pupil']\n",
    "tutor = data['tutor']\n",
    "\n",
    "lesson_range = range(lesson[0], lesson[1]+1)\n",
    "pupil_ranges = make_ranges(pupil)\n",
    "tutor_ranges = make_ranges(tutor)\n",
    "\n",
    "intervals_list = []\n",
    "check_list = []\n",
    "check_list += lesson\n",
    "check_list += pupil\n",
    "check_list += tutor\n",
    "for timestump in check_list:\n",
    "    print(timestump)\n",
    "    if timestump in lesson_range:\n",
    "            pupil_result = check_in_range(timestump, pupil_ranges)\n",
    "            tutor_result = check_in_range(timestump, tutor_ranges)\n",
    "            if pupil_result == True and tutor_result == True:\n",
    "                intervals_list.append(timestump)"
   ]
  },
  {
   "cell_type": "code",
   "execution_count": 20,
   "id": "93bafa02",
   "metadata": {},
   "outputs": [
    {
     "data": {
      "text/plain": [
       "[1594663200,\n",
       " 1594666800,\n",
       " 1594663340,\n",
       " 1594663389,\n",
       " 1594663390,\n",
       " 1594663395,\n",
       " 1594663396,\n",
       " 1594666472,\n",
       " 1594663290,\n",
       " 1594663430,\n",
       " 1594663443,\n",
       " 1594666473]"
      ]
     },
     "execution_count": 20,
     "metadata": {},
     "output_type": "execute_result"
    }
   ],
   "source": [
    "check_list"
   ]
  }
 ],
 "metadata": {
  "kernelspec": {
   "display_name": "Python 3 (ipykernel)",
   "language": "python",
   "name": "python3"
  },
  "language_info": {
   "codemirror_mode": {
    "name": "ipython",
    "version": 3
   },
   "file_extension": ".py",
   "mimetype": "text/x-python",
   "name": "python",
   "nbconvert_exporter": "python",
   "pygments_lexer": "ipython3",
   "version": "3.9.7"
  }
 },
 "nbformat": 4,
 "nbformat_minor": 5
}
