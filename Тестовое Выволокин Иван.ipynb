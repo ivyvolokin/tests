{
 "cells": [
  {
   "cell_type": "markdown",
   "id": "3340c765",
   "metadata": {},
   "source": [
    "Задача №1.\n",
    "Дан массив чисел, состоящий из некоторого количества подряд идущих единиц, за которыми следует какое-то количество подряд идущих нулей: 111111111111111111111111100000000.\n",
    "Найти индекс первого нуля (то есть найти такое место, где заканчиваются единицы, и начинаются нули)"
   ]
  },
  {
   "cell_type": "code",
   "execution_count": 27,
   "id": "0bce6a92",
   "metadata": {},
   "outputs": [
    {
     "data": {
      "text/plain": [
       "11"
      ]
     },
     "execution_count": 27,
     "metadata": {},
     "output_type": "execute_result"
    }
   ],
   "source": [
    "#Решение\n",
    "def task(array):\n",
    "    return array.index('0')\n",
    "\n",
    "\n",
    "task('111111111110000000000000000')\n"
   ]
  },
  {
   "cell_type": "markdown",
   "id": "c2bc8c07",
   "metadata": {},
   "source": [
    "Задача №2.\n",
    "\n",
    "В нашей школе мы не можем разглашать персональные данные пользователей, но чтобы преподаватель и ученик смогли объяснить нашей поддержке, кого они имеют в виду (у преподавателей, например, часто учится несколько Саш), мы генерируем пользователям уникальные и легко произносимые имена. Имя у нас состоит из прилагательного, имени животного и двузначной цифры. В итоге получается, например, \"Перламутровый лосось 77\". Для генерации таких имен мы и решали следующую задачу:\n",
    "Получить с русской википедии список всех животных (https://inlnk.ru/jElywR) и вывести количество животных на каждую букву алфавита. Результат должен получиться в следующем виде:\n",
    "А: 642\n",
    "Б: 412\n",
    "В:....\n"
   ]
  },
  {
   "cell_type": "code",
   "execution_count": 13,
   "id": "f2ae3f9c",
   "metadata": {
    "scrolled": true
   },
   "outputs": [],
   "source": [
    "#Решение\n",
    "import requests\n",
    "from bs4 import BeautifulSoup\n",
    "\n",
    "animals = {} #создаем словарь типа \"'А':['Аардоникс','Абботины',....]\n",
    "url = \"https://ru.wikipedia.org/wiki/Категория:Животные_по_алфавиту\"\n",
    "page = requests.get(url).text\n",
    "\n",
    "while page != 'The End': #--пока не дойдем до конца(=\n",
    "    soup = BeautifulSoup(page, 'lxml')\n",
    "    names = soup.find('div', id='mw-pages').find_all('a')\n",
    "    for name in names:\n",
    "        if name.text != 'Следующая страница' and name.text != 'Предыдущая страница':\n",
    "            if name.text[0] not in animals:\n",
    "                animals[name.text[0]] = [name.text]\n",
    "            else:\n",
    "                animals[name.text[0]].append(name.text)\n",
    "    links = soup.find('div', id='mw-pages').find_all('a')\n",
    "    for a in links:\n",
    "        if a.text == 'Следующая страница':\n",
    "            url = 'https://ru.wikipedia.org/' + a.get('href')\n",
    "            page = requests.get(url).text\n",
    "        else:\n",
    "            page = 'The End'#--дошли до конца(="
   ]
  },
  {
   "cell_type": "code",
   "execution_count": 14,
   "id": "499bcc01",
   "metadata": {},
   "outputs": [
    {
     "name": "stdout",
     "output_type": "stream",
     "text": [
      "А 1147\n",
      "Б 1600\n",
      "В 515\n",
      "Ж 392\n",
      "Г 984\n",
      "П 1730\n",
      "Д 739\n",
      "H 946\n",
      "Е 99\n",
      "Ё 2\n",
      "О 766\n",
      "Я 209\n",
      "З 621\n",
      "И 337\n",
      "Й 3\n",
      "К 2185\n",
      "С 1737\n",
      "Л 679\n",
      "М 1242\n",
      "Н 451\n",
      "Р 556\n",
      "Т 968\n",
      "У 242\n",
      "Ф 189\n",
      "Х 270\n",
      "Ц 218\n",
      "Ч 658\n",
      "Ш 268\n",
      "Щ 146\n",
      "Э 213\n",
      "Ю 133\n",
      "A 2841\n",
      "B 949\n",
      "C 2258\n",
      "D 960\n",
      "E 943\n",
      "F 195\n",
      "G 642\n",
      "I 324\n",
      "J 80\n",
      "K 224\n",
      "L 943\n",
      "M 1625\n",
      "N 761\n",
      "O 768\n",
      "P 2476\n",
      "Q 37\n",
      "R 480\n",
      "S 1692\n",
      "T 1196\n",
      "U 135\n",
      "V 169\n",
      "W 87\n",
      "X 160\n",
      "Y 44\n",
      "Z 208\n"
     ]
    }
   ],
   "source": [
    "#Для каждой буквы алфавита печатаем саму букву и количество животных на эту букву в нашем словаре\n",
    "for letter in animals:\n",
    "    print(letter, len(animals[letter])) "
   ]
  },
  {
   "cell_type": "markdown",
   "id": "ab538f67",
   "metadata": {},
   "source": [
    "Задача №3\n",
    "Когда пользователь заходит на страницу урока, мы сохраняем время его захода. Когда пользователь выходит с урока (или закрывает вкладку, браузер – в общем как-то разрывает соединение с сервером), мы фиксируем время выхода с урока. Время присутствия каждого пользователя на уроке хранится у нас в виде интервалов. В функцию передается словарь, содержащий три списка с таймстемпами (время в секундах):\n",
    "\n",
    "lesson – начало и конец урока\n",
    "pupil – интервалы присутствия ученика\n",
    "tutor – интервалы присутствия учителя\n",
    "Интервалы устроены следующим образом – это всегда список из четного количества элементов. Под четными индексами (начиная с 0) время входа на урок, под нечетными - время выхода с урока.\n",
    "Нужно написать функцию, которая получает на вход словарь с интервалами и возвращает время общего присутствия ученика и учителя на уроке (в секундах)."
   ]
  },
  {
   "cell_type": "code",
   "execution_count": 28,
   "id": "fd6e6c13",
   "metadata": {},
   "outputs": [],
   "source": [
    "def appearance(data ):\n",
    "    \"\"\"Первым делом создадим список из пар(кортежей) в который помещаем время и вторым значением либо +1, если\n",
    "    это начало сессии, либо -1 - окончание и отсортируем его\"\"\"\n",
    "    events = []\n",
    "    for k in data:\n",
    "        ev = data[k]\n",
    "        for i in range(len(ev)):\n",
    "            events.append((ev[i], 1 - 2*(i%2)))\n",
    "          \n",
    "    events.sort()\n",
    "    count = 0 # заведем переменную count\n",
    "    start = -1\n",
    "    total_time = 0\n",
    "    for e in events: #Проходим по списку, для каждого элемента добавляя start к count\n",
    "        count += e[1]   \n",
    "        if count == 3: #Если counter становится равным 3,\n",
    "            start = e[0] #запоминаете время (началось общее присутствие)\n",
    "        if count == 2 and start > 0: #Если counter переходит из 3 в 2, вычитаем из текущего времени запомненное,\n",
    "            total_time += e[0] - start #прибавляем разницу к время общего присутствия ученика и учителя на уроке\n",
    "            start = -1\n",
    "    return total_time"
   ]
  },
  {
   "cell_type": "code",
   "execution_count": 29,
   "id": "f5d49781",
   "metadata": {
    "scrolled": true
   },
   "outputs": [
    {
     "name": "stdout",
     "output_type": "stream",
     "text": [
      "3117\n",
      "92\n",
      "3565\n"
     ]
    }
   ],
   "source": [
    "for test in tests:\n",
    "    print(appearance(test['data']))"
   ]
  },
  {
   "cell_type": "code",
   "execution_count": 30,
   "id": "594fe47e",
   "metadata": {
    "scrolled": true
   },
   "outputs": [
    {
     "ename": "AssertionError",
     "evalue": "Error on test case 1, got 92, expected 3577",
     "output_type": "error",
     "traceback": [
      "\u001b[1;31m---------------------------------------------------------------------------\u001b[0m",
      "\u001b[1;31mAssertionError\u001b[0m                            Traceback (most recent call last)",
      "\u001b[1;32m~\\AppData\\Local\\Temp/ipykernel_7636/3337319229.py\u001b[0m in \u001b[0;36m<module>\u001b[1;34m\u001b[0m\n\u001b[0;32m     20\u001b[0m     \u001b[1;32mfor\u001b[0m \u001b[0mi\u001b[0m\u001b[1;33m,\u001b[0m \u001b[0mtest\u001b[0m \u001b[1;32min\u001b[0m \u001b[0menumerate\u001b[0m\u001b[1;33m(\u001b[0m\u001b[0mtests\u001b[0m\u001b[1;33m)\u001b[0m\u001b[1;33m:\u001b[0m\u001b[1;33m\u001b[0m\u001b[1;33m\u001b[0m\u001b[0m\n\u001b[0;32m     21\u001b[0m         \u001b[0mtest_answer\u001b[0m \u001b[1;33m=\u001b[0m \u001b[0mappearance\u001b[0m\u001b[1;33m(\u001b[0m\u001b[0mtest\u001b[0m\u001b[1;33m[\u001b[0m\u001b[1;34m'data'\u001b[0m\u001b[1;33m]\u001b[0m\u001b[1;33m)\u001b[0m\u001b[1;33m\u001b[0m\u001b[1;33m\u001b[0m\u001b[0m\n\u001b[1;32m---> 22\u001b[1;33m         \u001b[1;32massert\u001b[0m \u001b[0mtest_answer\u001b[0m \u001b[1;33m==\u001b[0m \u001b[0mtest\u001b[0m\u001b[1;33m[\u001b[0m\u001b[1;34m'answer'\u001b[0m\u001b[1;33m]\u001b[0m\u001b[1;33m,\u001b[0m \u001b[1;34mf'Error on test case {i}, got {test_answer}, expected {test[\"answer\"]}'\u001b[0m\u001b[1;33m\u001b[0m\u001b[1;33m\u001b[0m\u001b[0m\n\u001b[0m",
      "\u001b[1;31mAssertionError\u001b[0m: Error on test case 1, got 92, expected 3577"
     ]
    }
   ],
   "source": [
    "    \n",
    "tests = [\n",
    "    {'data': {'lesson': [1594663200, 1594666800],\n",
    "             'pupil': [1594663340, 1594663389, 1594663390, 1594663395, 1594663396, 1594666472],\n",
    "             'tutor': [1594663290, 1594663430, 1594663443, 1594666473]},\n",
    "     'answer': 3117\n",
    "    },\n",
    "    {'data': {'lesson': [1594702800, 1594706400],\n",
    "             'pupil': [1594702789, 1594704500, 1594702807, 1594704542, 1594704512, 1594704513, 1594704564, 1594705150, 1594704581, 1594704582, 1594704734, 1594705009, 1594705095, 1594705096, 1594705106, 1594706480, 1594705158, 1594705773, 1594705849, 1594706480, 1594706500, 1594706875, 1594706502, 1594706503, 1594706524, 1594706524, 1594706579, 1594706641],\n",
    "             'tutor': [1594700035, 1594700364, 1594702749, 1594705148, 1594705149, 1594706463]},\n",
    "    'answer': 3577\n",
    "    },\n",
    "    {'data': {'lesson': [1594692000, 1594695600],\n",
    "             'pupil': [1594692033, 1594696347],\n",
    "             'tutor': [1594692017, 1594692066, 1594692068, 1594696341]},\n",
    "    'answer': 3565\n",
    "    },\n",
    "]\n",
    "\n",
    "if __name__ == '__main__':\n",
    "    for i, test in enumerate(tests):\n",
    "        test_answer = appearance(test['data'])\n",
    "        assert test_answer == test['answer'], f'Error on test case {i}, got {test_answer}, expected {test[\"answer\"]}'\n"
   ]
  },
  {
   "cell_type": "code",
   "execution_count": 54,
   "id": "482338f8",
   "metadata": {},
   "outputs": [],
   "source": [
    "def appearance_2(data): #так как второй тест не проходил, была предринята ещё одна попытка appearance_2\n",
    "    lesson = data['lesson'] #временные промежутки урока\n",
    "    pupil = data['pupil'] #временные промежутки ученика\n",
    "    tutor = data['tutor'] #временные промежутки преподователя\n",
    "    \n",
    "    lesson_range = range(lesson[0], lesson[1]+1) #временные промежутки урока преобразованны\n",
    "    pupil_ranges = make_ranges(pupil) #описание функции ниже\n",
    "    tutor_ranges = make_ranges(tutor) #описание функции ниже\n",
    "    \n",
    "    intervals_list = []\n",
    "    \n",
    "    check_list = lesson + pupil + tutor #создаем один единый список со всеми временными промежутками\n",
    "\n",
    "    for timestump in check_list:\n",
    "        if timestump in lesson_range:\n",
    "            \n",
    "            pupil_result = check_in_range(timestump, pupil_ranges) #проверяем входит ли конекретное значение времени в наш промежуток \n",
    "            \n",
    "            tutor_result = check_in_range(timestump, tutor_ranges) #проверяем входит ли конекретное значение времени в наш промежуток \n",
    "            if pupil_result == True and tutor_result == True: #если оба входят\n",
    "                intervals_list.append(timestump) #добавляем значения в пустой список и затем сортируем\n",
    "    intervals_list.sort()\n",
    "    time = 0\n",
    "    for i in range(1, len(intervals_list), 2): #проходимся по новому списку и ищем сумму разниц соседних пар значений\n",
    "        delta = intervals_list[i] - intervals_list[i-1]\n",
    "        time += delta\n",
    "    return time #итоговое время\n",
    "\n",
    "\n",
    "def check_in_range(timestump, ranges):\n",
    "    \"\"\"проверяем входит ли конекретное значение времени timestump в наш промежуток ranges\"\"\"\n",
    "    for timedelta in ranges:\n",
    "        if timestump in timedelta:\n",
    "            return True      \n",
    "\n",
    "\n",
    "def make_ranges(intervals):\n",
    "    \"\"\"так как временные промежутки у нас даны списком [начало1, конец1, начало2, конец2....]\n",
    "    проходимся по всему списку и добавляем интервалы range(начало1, конец1 + 1сек)\"\"\"\n",
    "    range_list = []\n",
    "    for i in range(1, len(intervals), 2):\n",
    "        range_list.append(range(intervals[i-1], intervals[i]+1))\n",
    "    return range_list"
   ]
  },
  {
   "cell_type": "code",
   "execution_count": 55,
   "id": "fe1ab90c",
   "metadata": {
    "scrolled": true
   },
   "outputs": [
    {
     "name": "stdout",
     "output_type": "stream",
     "text": [
      "3117\n",
      "398\n",
      "3565\n"
     ]
    }
   ],
   "source": [
    "for test in tests:\n",
    "    print(appearance_2(test['data']))"
   ]
  },
  {
   "cell_type": "code",
   "execution_count": 42,
   "id": "bbeb81a3",
   "metadata": {},
   "outputs": [
    {
     "ename": "NameError",
     "evalue": "name 'pupil_result' is not defined",
     "output_type": "error",
     "traceback": [
      "\u001b[1;31m---------------------------------------------------------------------------\u001b[0m",
      "\u001b[1;31mNameError\u001b[0m                                 Traceback (most recent call last)",
      "\u001b[1;32m~\\AppData\\Local\\Temp/ipykernel_7636/3122414205.py\u001b[0m in \u001b[0;36m<module>\u001b[1;34m\u001b[0m\n\u001b[1;32m----> 1\u001b[1;33m \u001b[0mpupil_result\u001b[0m\u001b[1;33m\u001b[0m\u001b[1;33m\u001b[0m\u001b[0m\n\u001b[0m",
      "\u001b[1;31mNameError\u001b[0m: name 'pupil_result' is not defined"
     ]
    }
   ],
   "source": [
    "pupil_result"
   ]
  },
  {
   "cell_type": "code",
   "execution_count": 38,
   "id": "05651429",
   "metadata": {},
   "outputs": [
    {
     "ename": "AssertionError",
     "evalue": "Error on test case 1, got 398, expected 3577",
     "output_type": "error",
     "traceback": [
      "\u001b[1;31m---------------------------------------------------------------------------\u001b[0m",
      "\u001b[1;31mAssertionError\u001b[0m                            Traceback (most recent call last)",
      "\u001b[1;32m~\\AppData\\Local\\Temp/ipykernel_7636/2641200498.py\u001b[0m in \u001b[0;36m<module>\u001b[1;34m\u001b[0m\n\u001b[0;32m     20\u001b[0m     \u001b[1;32mfor\u001b[0m \u001b[0mi\u001b[0m\u001b[1;33m,\u001b[0m \u001b[0mtest\u001b[0m \u001b[1;32min\u001b[0m \u001b[0menumerate\u001b[0m\u001b[1;33m(\u001b[0m\u001b[0mtests\u001b[0m\u001b[1;33m)\u001b[0m\u001b[1;33m:\u001b[0m\u001b[1;33m\u001b[0m\u001b[1;33m\u001b[0m\u001b[0m\n\u001b[0;32m     21\u001b[0m         \u001b[0mtest_answer\u001b[0m \u001b[1;33m=\u001b[0m \u001b[0mappearance_2\u001b[0m\u001b[1;33m(\u001b[0m\u001b[0mtest\u001b[0m\u001b[1;33m[\u001b[0m\u001b[1;34m'data'\u001b[0m\u001b[1;33m]\u001b[0m\u001b[1;33m)\u001b[0m\u001b[1;33m\u001b[0m\u001b[1;33m\u001b[0m\u001b[0m\n\u001b[1;32m---> 22\u001b[1;33m         \u001b[1;32massert\u001b[0m \u001b[0mtest_answer\u001b[0m \u001b[1;33m==\u001b[0m \u001b[0mtest\u001b[0m\u001b[1;33m[\u001b[0m\u001b[1;34m'answer'\u001b[0m\u001b[1;33m]\u001b[0m\u001b[1;33m,\u001b[0m \u001b[1;34mf'Error on test case {i}, got {test_answer}, expected {test[\"answer\"]}'\u001b[0m\u001b[1;33m\u001b[0m\u001b[1;33m\u001b[0m\u001b[0m\n\u001b[0m",
      "\u001b[1;31mAssertionError\u001b[0m: Error on test case 1, got 398, expected 3577"
     ]
    }
   ],
   "source": [
    "tests = [\n",
    "    {'data': {'lesson': [1594663200, 1594666800],\n",
    "             'pupil': [1594663340, 1594663389, 1594663390, 1594663395, 1594663396, 1594666472],\n",
    "             'tutor': [1594663290, 1594663430, 1594663443, 1594666473]},\n",
    "     'answer': 3117\n",
    "    },\n",
    "    {'data': {'lesson': [1594702800, 1594706400],\n",
    "             'pupil': [1594702789, 1594704500, 1594702807, 1594704542, 1594704512, 1594704513, 1594704564, 1594705150, 1594704581, 1594704582, 1594704734, 1594705009, 1594705095, 1594705096, 1594705106, 1594706480, 1594705158, 1594705773, 1594705849, 1594706480, 1594706500, 1594706875, 1594706502, 1594706503, 1594706524, 1594706524, 1594706579, 1594706641],\n",
    "             'tutor': [1594700035, 1594700364, 1594702749, 1594705148, 1594705149, 1594706463]},\n",
    "    'answer': 3577\n",
    "    },\n",
    "    {'data': {'lesson': [1594692000, 1594695600],\n",
    "             'pupil': [1594692033, 1594696347],\n",
    "             'tutor': [1594692017, 1594692066, 1594692068, 1594696341]},\n",
    "    'answer': 3565\n",
    "    },\n",
    "]\n",
    "\n",
    "if __name__ == '__main__':\n",
    "    for i, test in enumerate(tests):\n",
    "        test_answer = appearance_2(test['data'])\n",
    "        assert test_answer == test['answer'], f'Error on test case {i}, got {test_answer}, expected {test[\"answer\"]}'\n"
   ]
  },
  {
   "cell_type": "markdown",
   "id": "1175f0e9",
   "metadata": {},
   "source": [
    "Комментарии к тестовому заданию N2:\n",
    "Значения не сходятся с ответом, потому что за последнее время добавили новые статьи на тему животных.\n",
    "Буква \"А\", занимает чуть меньше 6 страниц по 200 значений на каждой, а это никак не может быть А: 642."
   ]
  },
  {
   "cell_type": "code",
   "execution_count": 33,
   "id": "6d3002fa",
   "metadata": {},
   "outputs": [
    {
     "data": {
      "text/plain": [
       "3600"
      ]
     },
     "execution_count": 33,
     "metadata": {},
     "output_type": "execute_result"
    }
   ],
   "source": []
  },
  {
   "cell_type": "code",
   "execution_count": null,
   "id": "ad38ca11",
   "metadata": {},
   "outputs": [],
   "source": []
  }
 ],
 "metadata": {
  "kernelspec": {
   "display_name": "Python 3 (ipykernel)",
   "language": "python",
   "name": "python3"
  },
  "language_info": {
   "codemirror_mode": {
    "name": "ipython",
    "version": 3
   },
   "file_extension": ".py",
   "mimetype": "text/x-python",
   "name": "python",
   "nbconvert_exporter": "python",
   "pygments_lexer": "ipython3",
   "version": "3.9.7"
  }
 },
 "nbformat": 4,
 "nbformat_minor": 5
}
